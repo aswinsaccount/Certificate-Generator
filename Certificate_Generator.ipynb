{
 "cells": [
  {
   "cell_type": "code",
   "execution_count": 5,
   "metadata": {},
   "outputs": [],
   "source": [
    "# from selenium import webdriver\n",
    "# chromedriver_location = \"/home/halfmirror/Downloads/chromedriver\"\n",
    "# driver = webdriver.Chrome(chromedriver_location)\n",
    "# driver.get('https://www.canva.com/design/DAEE4fAXXlU/lnxXAJOt06HRcGilsNQwDw/edit?category=tACZCk6N0I4')\n",
    "# # name = '//*[@id=\"root\"]/div/div/div[2]/div[1]/div/div/div/div/div[2]/div/div/div/div[1]/div/div/div/div/div/div/div/div/div/div[1]/div/div[8]/div/div[3]/div/div/div/div/p/span'\n",
    "# # driver.manage().timeouts().implicitlyWait(10, TimeUnit.SECONDS)\n",
    "# # driver.find_element_by_xpath(\"//span[.='Emily Bryant']\").send_keys(\"username\")\n",
    "# element = driver.find_element_by_xpath(\"//span[.='Emily Bryant']\")\n",
    "# driver.execute_script('arguments[0].innerHTML = \"New value\";', element)\n",
    "\n",
    "# # def save_as_screenshot():\n",
    "# #     from io import BytesIO\n",
    "# #     from PIL import Image\n",
    "# #     img = Image.open(BytesIO(driver.find_element_by_tag_name('body').screenshot_as_png))\n",
    "# #     rgb = Image.new('RGB', img.size, (255, 255, 255))  # white background\n",
    "# #     rgb.paste(img, mask=img.split()[3])               # paste using alpha channel as mask\n",
    "# #     rgb.save('filename.pdf', 'PDF', resoultion=100.0)"
   ]
  },
  {
   "cell_type": "code",
   "execution_count": 6,
   "metadata": {},
   "outputs": [],
   "source": [
    "# from selenium import webdriver\n",
    "# import json\n",
    "\n",
    "# chrome_options = webdriver.ChromeOptions()\n",
    "# # settings = {\n",
    "# #        \"recentDestinations\": [{\n",
    "# #             \"id\": \"Save as PDF\",\n",
    "# #             \"origin\": \"local\",\n",
    "# #             \"account\": \"\",\n",
    "# #         }],\n",
    "# #         \"selectedDestinationId\": \"Save as PDF\",\n",
    "# #         \"version\": 1\n",
    "# #     }\n",
    "# chromedriver_location = \"/home/halfmirror/Downloads/chromedriver\"\n",
    "# # prefs = {'printing.print_preview_sticky_settings.appState': json.dumps(settings)}\n",
    "# # chrome_options.add_experimental_option('prefs', prefs)\n",
    "# chrome_options.add_argument('--kiosk-printing')\n",
    "# driver = webdriver.Chrome(chrome_options=chrome_options,executable_path=chromedriver_location)\n",
    "\n",
    "\n",
    "# driver.get('https://www.canva.com/design/DAEE4fAXXlU/lnxXAJOt06HRcGilsNQwDw/edit?category=tACZCk6N0I4')\n",
    "# element = driver.find_element_by_xpath(\"//span[.='Emily Bryant']\")\n",
    "# driver.execute_script('return arguments[0].innerHTML = \"New value\";', element)\n",
    "# # element.innerHTML = element.get_attribute('innerHTML').replace(\"Emily Bryant\",\"that\")\n",
    "\n",
    "# # ed.innerHTML = ed.innerHTML.replace(\"Emily Bryant\",\"that\");\n",
    "# # driver.get('https://www.canva.com/design/DAEE4fAXXlU/lnxXAJOt06HRcGilsNQwDw/edit?category=tACZCk6N0I4')\n",
    "# driver.get('https://www.canva.com/design/DAEE4fAXXlU/lnxXAJOt06HRcGilsNQwDw/edit?category=tACZCk6N0I4')\n",
    "\n",
    "# driver.execute_script('window.print();')"
   ]
  },
  {
   "cell_type": "code",
   "execution_count": 7,
   "metadata": {},
   "outputs": [],
   "source": [
    "# from selenium import webdriver\n",
    "# import json\n",
    "\n",
    "# chrome_options = webdriver.ChromeOptions()\n",
    "# settings = {\n",
    "#        \"recentDestinations\": [{\n",
    "#             \"id\": \"Save as PDF\",\n",
    "#             \"origin\": \"local\",\n",
    "#             \"account\": \"\",\n",
    "#         }],\n",
    "#         \"selectedDestinationId\": \"Save as PDF\",\n",
    "#         \"version\": 2\n",
    "#     }\n",
    "# chromedriver_location = \"/home/halfmirror/Downloads/chromedriver\"\n",
    "# prefs = {'printing.print_preview_sticky_settings.appState': json.dumps(settings)}\n",
    "# chrome_options.add_experimental_option('prefs', prefs)\n",
    "# chrome_options.add_argument('--kiosk-printing')\n",
    "# driver = webdriver.Chrome(chrome_options=chrome_options, executable_path=chromedriver_location)\n",
    "\n",
    "\n",
    "# driver.get('https://www.canva.com/design/DAEE4fAXXlU/lnxXAJOt06HRcGilsNQwDw/edit?category=tACZCk6N0I4')\n",
    "\n",
    "# menu = driver.find_element_by_xpath(\"//span[.='Emily Bryant']\")\n",
    "# # hidden_submenu = driver.find_element_by_css_selector(\".nav #submenu1\")\n",
    "\n",
    "# actions = ActionChains(driver)\n",
    "# actions.move_to_element(menu)\n",
    "# # actions.click(hidden_submenu)\n",
    "# actions.perform()\n",
    "\n",
    "# # from selenium.webdriver.common.keys import Keys\n",
    "# # element.sendKeys(Keys.chord(Keys.CONTROL, \"a\"), \"55\");"
   ]
  },
  {
   "cell_type": "code",
   "execution_count": 4,
   "metadata": {},
   "outputs": [],
   "source": [
    "from selenium import webdriver\n",
    "import json\n",
    "chromedriver_location = \"/home/halfmirror/Documents/Python/Certificate_Generator/chromedriver\"\n",
    "driver = webdriver.Chrome(executable_path=chromedriver_location)\n",
    "driver.get('https://www.canva.com/design/DAEE4fAXXlU/lnxXAJOt06HRcGilsNQwDw/edit?category=tACZCk6N0I4')\n",
    "element1 = driver.find_element_by_xpath(\"//span[.='Emily Bryant']\")\n",
    "element2 = driver.find_element_by_xpath(\"//span[.='Silton High School awards']\")\n",
    "\n",
    "names = ['vishnuprabha','aswin','arun','aparna']\n",
    "colleges = ['cusat','asiet','fisat','mits']\n",
    "for i,j in zip(names,colleges):\n",
    "    driver.execute_script('return arguments[0].innerHTML = \"{}\";'.format(i), element1)\n",
    "    driver.execute_script('return arguments[0].innerHTML = \"{}\";'.format(j), element2)\n",
    "    with open('{}.html'.format(i), 'w') as f:\n",
    "        f.write(driver.page_source)"
   ]
  },
  {
   "cell_type": "code",
   "execution_count": 5,
   "metadata": {},
   "outputs": [
    {
     "name": "stderr",
     "output_type": "stream",
     "text": [
      "/home/halfmirror/.local/lib/python3.6/site-packages/ipykernel_launcher.py:17: DeprecationWarning: use options instead of chrome_options\n"
     ]
    }
   ],
   "source": [
    "from selenium import webdriver\n",
    "import json\n",
    "chrome_options = webdriver.ChromeOptions()\n",
    "settings = {\n",
    "       \"recentDestinations\": [{\n",
    "            \"id\": \"Save as PDF\",\n",
    "            \"origin\": \"local\",\n",
    "            \"account\": \"\",\n",
    "        }],\n",
    "        \"selectedDestinationId\": \"Save as PDF\",\n",
    "        \"version\": 2\n",
    "    }\n",
    "# chromedriver_location = \"/home/halfmirror/Downloads/chromedriver\"\n",
    "prefs = {'printing.print_preview_sticky_settings.appState': json.dumps(settings)}\n",
    "chrome_options.add_experimental_option('prefs', prefs)\n",
    "chrome_options.add_argument('--kiosk-printing')\n",
    "driver = webdriver.Chrome(chrome_options=chrome_options, executable_path=chromedriver_location)\n",
    "for i in names:\n",
    "    driver.get('file:///home/halfmirror/Documents/Python/Certificate_Generator/{}.html'.format(i))\n",
    "    driver.execute_script('window.print();')"
   ]
  },
  {
   "cell_type": "code",
   "execution_count": null,
   "metadata": {},
   "outputs": [],
   "source": []
  },
  {
   "cell_type": "code",
   "execution_count": null,
   "metadata": {},
   "outputs": [],
   "source": []
  },
  {
   "cell_type": "code",
   "execution_count": null,
   "metadata": {},
   "outputs": [],
   "source": []
  }
 ],
 "metadata": {
  "kernelspec": {
   "display_name": "Python 3",
   "language": "python",
   "name": "python3"
  },
  "language_info": {
   "codemirror_mode": {
    "name": "ipython",
    "version": 3
   },
   "file_extension": ".py",
   "mimetype": "text/x-python",
   "name": "python",
   "nbconvert_exporter": "python",
   "pygments_lexer": "ipython3",
   "version": "3.6.9"
  }
 },
 "nbformat": 4,
 "nbformat_minor": 4
}
